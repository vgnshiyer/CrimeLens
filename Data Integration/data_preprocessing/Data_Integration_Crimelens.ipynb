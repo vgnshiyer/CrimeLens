{
 "cells": [
  {
   "cell_type": "code",
   "execution_count": 1,
   "id": "6294744b",
   "metadata": {},
   "outputs": [],
   "source": [
    "import pandas as pd\n",
    "import numpy as np"
   ]
  },
  {
   "cell_type": "code",
   "execution_count": 2,
   "id": "786ecf53",
   "metadata": {},
   "outputs": [],
   "source": [
    "pd.set_option(\"display.max_columns\", 50)"
   ]
  },
  {
   "cell_type": "code",
   "execution_count": 3,
   "id": "a92f6029",
   "metadata": {},
   "outputs": [],
   "source": [
    "nypd_data = pd.read_csv(\"./raw_data/NYPD_Shooting_Incident_Data__Historic_.csv\")"
   ]
  },
  {
   "cell_type": "code",
   "execution_count": 4,
   "id": "60c9b06c",
   "metadata": {},
   "outputs": [],
   "source": [
    "# pd.read_csv(\"Datasets/Crime_Data_from_2020_to_Present.csv\")[\"Crm Cd Desc\"].value_counts()"
   ]
  },
  {
   "cell_type": "code",
   "execution_count": 5,
   "id": "b8697a15",
   "metadata": {},
   "outputs": [],
   "source": [
    "crime_data = pd.read_csv(\"./raw_data/Crime_Data_from_2020_to_Present.csv\")"
   ]
  },
  {
   "cell_type": "code",
   "execution_count": 6,
   "id": "a9e2c67b",
   "metadata": {},
   "outputs": [],
   "source": [
    "police_killing_data = pd.read_csv(\"./raw_data/PoliceKillingsUS.csv\", nrows=7000, encoding='cp1252')"
   ]
  },
  {
   "cell_type": "code",
   "execution_count": 7,
   "id": "9bb3aaf9",
   "metadata": {},
   "outputs": [],
   "source": [
    "homicide_data = pd.read_csv(\"./raw_data/homicide-data.csv\", nrows=35000, encoding='cp1252')"
   ]
  },
  {
   "cell_type": "code",
   "execution_count": 8,
   "id": "eaa53932",
   "metadata": {},
   "outputs": [],
   "source": [
    "race_mapping = {\n",
    "    'H': 'Hispanic or Latino',\n",
    "    'W': 'White',\n",
    "    'B': 'Black or African American',\n",
    "    'O': 'Other',\n",
    "    'A': 'Asian',\n",
    "    'X': 'Unknown',\n",
    "    'K': 'Native Hawaiian or Other Pacific Islander',\n",
    "    'F': 'Filipino',\n",
    "    'C': 'Chinese',\n",
    "    'J': 'Japanese',\n",
    "    'V': 'Vietnamese',\n",
    "    'I': 'Indian (Asian)',\n",
    "    'Z': 'Asian Indian',\n",
    "    'P': 'Pacific Islander',\n",
    "    'U': 'Guamanian or Chamorro',\n",
    "    'D': 'Aleut or Eskimo',\n",
    "    'G': 'Asian or Pacific Islander',\n",
    "    'L': 'Laotian',\n",
    "    'S': 'Samoan'\n",
    "}"
   ]
  },
  {
   "cell_type": "code",
   "execution_count": 9,
   "id": "0ad3abfa",
   "metadata": {},
   "outputs": [],
   "source": [
    "nypd_data_mapping = {\n",
    "    \"INCIDENT_KEY\": \"crime_id\",\n",
    "    \"OCCUR_DATE\": \"crime_date\",\n",
    "    \"VIC_AGE_GROUP\": \"victim_age\",\n",
    "    \"VIC_SEX\": \"victim_sex\",\n",
    "    \"VIC_RACE\": \"victim_race\",\n",
    "    \"PERP_AGE_GROUP\": \"perpetrator_age\",\n",
    "    \"PERP_SEX\": \"perpetrator_sex\",\n",
    "    \"PERP_RACE\": \"perpetrator_race\",\n",
    "    \"BORO\": \"street\",\n",
    "    \"Latitude\": \"lat\",\n",
    "    \"Longitude\": \"long\"\n",
    "}\n",
    "nypd_data_cols = [\"crime_id\", \"crime_date\", \"victim_age\", \"victim_sex\", \"victim_race\", \n",
    "                   \"perpetrator_age\", \"perpetrator_sex\", \"perpetrator_race\", \"street\", \"lat\", \"long\"]"
   ]
  },
  {
   "cell_type": "code",
   "execution_count": 76,
   "id": "dc58880c",
   "metadata": {},
   "outputs": [],
   "source": [
    "all_cols = [\"crime_id\", \"crime_date\", \"description\", \"victim_age\", \"victim_age_range\", \"victim_sex\", \"victim_race\", \n",
    "            \"perpetrator_age\", \"perpetrator_sex\", \"perpetrator_race\", \n",
    "            \"street\", \"city\", \"state\", \"lat\", \"long\"]"
   ]
  },
  {
   "cell_type": "code",
   "execution_count": 11,
   "id": "67958711",
   "metadata": {
    "scrolled": true
   },
   "outputs": [],
   "source": [
    "nypd_data = nypd_data.rename(columns=nypd_data_mapping)[nypd_data_cols]"
   ]
  },
  {
   "cell_type": "code",
   "execution_count": 63,
   "id": "70fcad29",
   "metadata": {},
   "outputs": [],
   "source": [
    "crime_data_mapping = {\n",
    "    \"DR_NO\": \"crime_id\",\n",
    "    \"Date Rptd\": \"crime_date\",\n",
    "    \"Crm Cd Desc\": \"description\",\n",
    "    \"Vict Age\": \"victim_age\",\n",
    "    \"Vict Sex\": \"victim_sex\",\n",
    "    \"Vict Descent\": \"victim_race\",\n",
    "    \"LOCATION\": \"street\",\n",
    "    \"LAT\": \"lat\",\n",
    "    \"LON\": \"long\"\n",
    "}\n",
    "crime_data_cols = [\"id\", \"crime_id\", \"crime_date\", \"description\", \"victim_age\", \"victim_sex\", \"victim_race\", \n",
    "                   \"street\", \"lat\", \"long\"]"
   ]
  },
  {
   "cell_type": "code",
   "execution_count": 13,
   "id": "89920a06",
   "metadata": {},
   "outputs": [],
   "source": [
    "crime_data = crime_data.rename(columns=crime_data_mapping)[crime_data_cols]"
   ]
  },
  {
   "cell_type": "code",
   "execution_count": 14,
   "id": "fb990305",
   "metadata": {},
   "outputs": [],
   "source": [
    "police_killing_mapping = {\n",
    "    \"id\": \"crime_id\",\n",
    "    \"date\": \"crime_date\",\n",
    "    \"manner_of_death\": \"description\",\n",
    "    \"age\": \"victim_age\",\n",
    "    \"gender\": \"victim_sex\",\n",
    "    \"race\": \"victim_race\"\n",
    "}\n",
    "police_killing_cols = [\"crime_id\", \"crime_date\", \"description\", \"victim_age\", \"victim_sex\", \"victim_race\", \n",
    "                  \"city\", \"state\"]"
   ]
  },
  {
   "cell_type": "code",
   "execution_count": 15,
   "id": "88e5592d",
   "metadata": {
    "scrolled": true
   },
   "outputs": [],
   "source": [
    "police_killing_data = police_killing_data.rename(columns=police_killing_mapping)[police_killing_cols]"
   ]
  },
  {
   "cell_type": "code",
   "execution_count": 16,
   "id": "0ec043df",
   "metadata": {},
   "outputs": [],
   "source": [
    "homicide_mapping = {\n",
    "    \"uid\": \"crime_id\",\n",
    "    \"reported_date\": \"crime_date\",\n",
    "    \"lon\": \"long\"\n",
    "}\n",
    "homicide_cols = [\"crime_id\", \"crime_date\", \"victim_age\", \"victim_sex\", \"victim_race\", \n",
    "                  \"city\", \"state\", \"lat\", \"long\"]"
   ]
  },
  {
   "cell_type": "code",
   "execution_count": 17,
   "id": "858cbb89",
   "metadata": {
    "scrolled": true
   },
   "outputs": [],
   "source": [
    "homicide_data = homicide_data.rename(columns=homicide_mapping)[homicide_cols]"
   ]
  },
  {
   "cell_type": "code",
   "execution_count": 18,
   "id": "e372a94a",
   "metadata": {},
   "outputs": [],
   "source": [
    "nypd_data.loc[:, \"description\"] = \"\"\n",
    "nypd_data.loc[:, \"city\"] = \"New York\"\n",
    "nypd_data.loc[:, \"state\"] = \"NY\""
   ]
  },
  {
   "cell_type": "code",
   "execution_count": 19,
   "id": "2dca34ba",
   "metadata": {},
   "outputs": [],
   "source": [
    "crime_data.loc[:, \"perpetrator_age\"] = np.NaN\n",
    "crime_data.loc[:, \"perpetrator_sex\"] = np.NaN\n",
    "crime_data.loc[:, \"perpetrator_race\"] = np.NaN"
   ]
  },
  {
   "cell_type": "code",
   "execution_count": 20,
   "id": "684ca9e4",
   "metadata": {},
   "outputs": [],
   "source": [
    "crime_data.loc[:, \"city\"] = \"Los Angeles\"\n",
    "crime_data.loc[:, \"state\"] = \"CA\""
   ]
  },
  {
   "cell_type": "code",
   "execution_count": 21,
   "id": "49ad3045",
   "metadata": {},
   "outputs": [],
   "source": [
    "police_killing_data.loc[:, \"perpetrator_age\"] = np.NaN\n",
    "police_killing_data.loc[:, \"perpetrator_sex\"] = np.NaN\n",
    "police_killing_data.loc[:, \"perpetrator_race\"] = np.NaN\n",
    "police_killing_data.loc[:, \"street\"] = np.NaN\n",
    "police_killing_data.loc[:, \"lat\"] = np.NaN\n",
    "police_killing_data.loc[:, \"long\"] = np.NaN"
   ]
  },
  {
   "cell_type": "code",
   "execution_count": 22,
   "id": "18233a5d",
   "metadata": {},
   "outputs": [],
   "source": [
    "homicide_data.loc[:, \"perpetrator_age\"] = np.NaN\n",
    "homicide_data.loc[:, \"perpetrator_sex\"] = np.NaN\n",
    "homicide_data.loc[:, \"perpetrator_race\"] = np.NaN\n",
    "homicide_data.loc[:, \"description\"] = np.NaN\n",
    "homicide_data.loc[:, \"street\"] = np.NaN"
   ]
  },
  {
   "cell_type": "code",
   "execution_count": 24,
   "id": "27e15696",
   "metadata": {
    "scrolled": true
   },
   "outputs": [],
   "source": [
    "nypd_data = nypd_data.query(\"perpetrator_age.notna() and perpetrator_age!='(null)' and perpetrator_age!='UNKNOWN' \\\n",
    "                            and perpetrator_age!='940' and perpetrator_age!='224' and perpetrator_age!='1020'\")\n",
    "nypd_data = nypd_data.query(\"victim_age.notna() and victim_age!='(null)' and victim_age!='UNKNOWN' \\\n",
    "                and victim_age!='1022'\")"
   ]
  },
  {
   "cell_type": "code",
   "execution_count": 25,
   "id": "8ad106f9",
   "metadata": {},
   "outputs": [],
   "source": [
    "nypd_data = nypd_data.reset_index(drop=True)"
   ]
  },
  {
   "cell_type": "code",
   "execution_count": 27,
   "id": "23a67446",
   "metadata": {},
   "outputs": [],
   "source": [
    "crime_data = crime_data.query(\"victim_age>0 and victim_age<100 and victim_race.notna()\")"
   ]
  },
  {
   "cell_type": "code",
   "execution_count": 28,
   "id": "89b8a908",
   "metadata": {},
   "outputs": [],
   "source": [
    "crime_data.loc[(crime_data.victim_age<18), \"victim_age_range\"] = \"<18\"\n",
    "crime_data.loc[(crime_data.victim_age>=18) & (crime_data.victim_age<=24), \"victim_age_range\"] = \"18-24\"\n",
    "crime_data.loc[(crime_data.victim_age>=25) & (crime_data.victim_age<=44), \"victim_age_range\"] = \"25-44\"\n",
    "crime_data.loc[(crime_data.victim_age>=45) & (crime_data.victim_age<=64), \"victim_age_range\"] = \"45-64\"\n",
    "crime_data.loc[(crime_data.victim_age>=65), \"victim_age_range\"] = \"65+\""
   ]
  },
  {
   "cell_type": "code",
   "execution_count": 31,
   "id": "8846b8dc",
   "metadata": {
    "scrolled": true
   },
   "outputs": [],
   "source": [
    "nypd_data.crime_date = pd.to_datetime(nypd_data.crime_date)\n",
    "crime_data.crime_date = pd.to_datetime(crime_data.crime_date)\n",
    "police_killing_data.crime_date = pd.to_datetime(police_killing_data.crime_date)\n",
    "homicide_data.crime_date = pd.to_datetime(homicide_data.crime_date, format='%Y%m%d')"
   ]
  },
  {
   "cell_type": "code",
   "execution_count": 33,
   "id": "51cf7eda",
   "metadata": {
    "scrolled": true
   },
   "outputs": [],
   "source": [
    "police_killing_data = police_killing_data.query(\"victim_age.notna() and victim_race.notna()\")\n",
    "police_killing_data.victim_age = police_killing_data.victim_age.astype(\"int\")"
   ]
  },
  {
   "cell_type": "code",
   "execution_count": 34,
   "id": "c2faa656",
   "metadata": {},
   "outputs": [],
   "source": [
    "police_killing_data.loc[(police_killing_data.victim_age<18), \"victim_age_range\"] = \"<18\"\n",
    "police_killing_data.loc[(police_killing_data.victim_age>=18) & (police_killing_data.victim_age<=24), \\\n",
    "                        \"victim_age_range\"] = \"18-24\"\n",
    "police_killing_data.loc[(police_killing_data.victim_age>=25) & (police_killing_data.victim_age<=44), \\\n",
    "                        \"victim_age_range\"] = \"25-44\"\n",
    "police_killing_data.loc[(police_killing_data.victim_age>=45) & (police_killing_data.victim_age<=64), \\\n",
    "                        \"victim_age_range\"] = \"45-64\"\n",
    "police_killing_data.loc[(police_killing_data.victim_age>=65), \"victim_age_range\"] = \"65+\""
   ]
  },
  {
   "cell_type": "code",
   "execution_count": 36,
   "id": "c67a7850",
   "metadata": {},
   "outputs": [],
   "source": [
    "crime_data.victim_race = crime_data.victim_race.replace(race_mapping)"
   ]
  },
  {
   "cell_type": "code",
   "execution_count": 38,
   "id": "1f406099",
   "metadata": {},
   "outputs": [],
   "source": [
    "police_killing_data.victim_race = police_killing_data.victim_race.replace(race_mapping)"
   ]
  },
  {
   "cell_type": "code",
   "execution_count": 40,
   "id": "525aafe8",
   "metadata": {},
   "outputs": [],
   "source": [
    "homicide_data = homicide_data.query(\"victim_age.notna() and victim_race.notna() and victim_age!='Unknown'\")\n",
    "# police_killing_data.victim_age = police_killing_data.victim_age.astype(\"int\")"
   ]
  },
  {
   "cell_type": "code",
   "execution_count": 41,
   "id": "03f2c7cc",
   "metadata": {},
   "outputs": [],
   "source": [
    "homicide_data.victim_age = homicide_data.victim_age.astype(\"int\")"
   ]
  },
  {
   "cell_type": "code",
   "execution_count": 42,
   "id": "1b1384d9",
   "metadata": {},
   "outputs": [],
   "source": [
    "homicide_data.loc[(homicide_data.victim_age<18), \"victim_age_range\"] = \"<18\"\n",
    "homicide_data.loc[(homicide_data.victim_age>=18) & (homicide_data.victim_age<=24), \\\n",
    "                        \"victim_age_range\"] = \"18-24\"\n",
    "homicide_data.loc[(homicide_data.victim_age>=25) & (homicide_data.victim_age<=44), \\\n",
    "                        \"victim_age_range\"] = \"25-44\"\n",
    "homicide_data.loc[(homicide_data.victim_age>=45) & (homicide_data.victim_age<=64), \\\n",
    "                        \"victim_age_range\"] = \"45-64\"\n",
    "homicide_data.loc[(homicide_data.victim_age>=65), \"victim_age_range\"] = \"65+\""
   ]
  },
  {
   "cell_type": "code",
   "execution_count": 44,
   "id": "56dc99ea",
   "metadata": {},
   "outputs": [],
   "source": [
    "crime_data = crime_data.groupby('victim_age_range', group_keys=False, sort=False)\\\n",
    ".apply(lambda x: x.sample(min(len(x), 5500)))"
   ]
  },
  {
   "cell_type": "code",
   "execution_count": 47,
   "id": "f363d78f",
   "metadata": {},
   "outputs": [],
   "source": [
    "nypd_data.loc[:, \"victim_age_range\"] = nypd_data.victim_age"
   ]
  },
  {
   "cell_type": "code",
   "execution_count": 58,
   "id": "c553694c",
   "metadata": {
    "scrolled": true
   },
   "outputs": [],
   "source": [
    "nypd_data.loc[:, \"description\"] = \"Shooting\"\n",
    "homicide_data.loc[:, \"description\"] = \"Homicide\""
   ]
  },
  {
   "cell_type": "code",
   "execution_count": 77,
   "id": "d7c9901e",
   "metadata": {},
   "outputs": [],
   "source": [
    "crime_data_final = pd.concat([nypd_data[all_cols], crime_data[all_cols]], axis=0)\n",
    "crime_data_final = pd.concat([crime_data_final, police_killing_data[all_cols]], axis=0)\n",
    "crime_data_final = pd.concat([crime_data_final, homicide_data[all_cols]], axis=0)"
   ]
  },
  {
   "cell_type": "code",
   "execution_count": 78,
   "id": "8cc2663a",
   "metadata": {},
   "outputs": [],
   "source": [
    "crime_data_final = crime_data_final.reset_index(drop=True)"
   ]
  },
  {
   "cell_type": "code",
   "execution_count": 79,
   "id": "a3ea6f41",
   "metadata": {},
   "outputs": [],
   "source": [
    "crime_data_final = crime_data_final.reset_index().rename(columns={\"index\": \"id\"})"
   ]
  },
  {
   "cell_type": "code",
   "execution_count": 81,
   "id": "7380a31d",
   "metadata": {},
   "outputs": [],
   "source": [
    "crime_data_final.to_csv(\"./raw_data/All_Crime_Data.csv\", index=False)"
   ]
  },
  {
   "cell_type": "code",
   "execution_count": null,
   "id": "647d4f82",
   "metadata": {},
   "outputs": [],
   "source": []
  }
 ],
 "metadata": {
  "kernelspec": {
   "display_name": "Python 3",
   "language": "python",
   "name": "python3"
  },
  "language_info": {
   "codemirror_mode": {
    "name": "ipython",
    "version": 3
   },
   "file_extension": ".py",
   "mimetype": "text/x-python",
   "name": "python",
   "nbconvert_exporter": "python",
   "pygments_lexer": "ipython3",
   "version": "3.11.1 (v3.11.1:a7a450f84a, Dec  6 2022, 15:24:06) [Clang 13.0.0 (clang-1300.0.29.30)]"
  },
  "vscode": {
   "interpreter": {
    "hash": "1a1af0ee75eeea9e2e1ee996c87e7a2b11a0bebd85af04bb136d915cefc0abce"
   }
  }
 },
 "nbformat": 4,
 "nbformat_minor": 5
}
